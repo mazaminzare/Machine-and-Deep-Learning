{
  "nbformat": 4,
  "nbformat_minor": 0,
  "metadata": {
    "colab": {
      "provenance": []
    },
    "kernelspec": {
      "name": "python3",
      "display_name": "Python 3"
    },
    "language_info": {
      "name": "python"
    },
    "accelerator": "GPU",
    "gpuClass": "standard"
  },
  "cells": [
    {
      "cell_type": "code",
      "source": [
        "# Import and install requierd package\n",
        "import tensorflow as tf\n",
        "import matplotlib.pyplot as plt\n",
        "from keras import datasets, layers, models, losses\n",
        "!pip install tensorflow-addons\n",
        "import tensorflow_addons as tfa\n",
        "import pandas as pd"
      ],
      "metadata": {
        "id": "qETiTk3Woq0k",
        "colab": {
          "base_uri": "https://localhost:8080/"
        },
        "outputId": "52abcb3b-c25b-4e89-e903-a53464bd9157"
      },
      "execution_count": 1,
      "outputs": [
        {
          "output_type": "stream",
          "name": "stdout",
          "text": [
            "Looking in indexes: https://pypi.org/simple, https://us-python.pkg.dev/colab-wheels/public/simple/\n",
            "Collecting tensorflow-addons\n",
            "  Downloading tensorflow_addons-0.19.0-cp38-cp38-manylinux_2_17_x86_64.manylinux2014_x86_64.whl (1.1 MB)\n",
            "\u001b[2K     \u001b[90m━━━━━━━━━━━━━━━━━━━━━━━━━━━━━━━━━━━━━━━━\u001b[0m \u001b[32m1.1/1.1 MB\u001b[0m \u001b[31m18.4 MB/s\u001b[0m eta \u001b[36m0:00:00\u001b[0m\n",
            "\u001b[?25hRequirement already satisfied: typeguard>=2.7 in /usr/local/lib/python3.8/dist-packages (from tensorflow-addons) (2.7.1)\n",
            "Requirement already satisfied: packaging in /usr/local/lib/python3.8/dist-packages (from tensorflow-addons) (23.0)\n",
            "Installing collected packages: tensorflow-addons\n",
            "Successfully installed tensorflow-addons-0.19.0\n"
          ]
        }
      ]
    },
    {
      "cell_type": "code",
      "source": [
        "# Utility Functions\n",
        "def average(input_data):\n",
        "    return sum(input_data)/len(input_data)\n",
        "\n",
        "def train_result(history, module_type='Train'):\n",
        "  results = {\n",
        "      'Loss' : history.history['loss'][-1] ,\n",
        "      'Accuracy' : history.history['accuracy'][-1],\n",
        "      'Precision' : history.history['precision'][-1],\n",
        "      'Recall' : history.history['recall'][-1],\n",
        "      'F1 Score' : history.history['f1_score'][-1],\n",
        "      'Specificity': history.history['specificity_at_sensitivity'][-1],\n",
        "      'Mean Absolute Error':history.history['mean_absolute_error'][-1],\n",
        "      'R2 Score' : history.history['r_square'][-1],\n",
        "      }\n",
        "  return pd.DataFrame.from_dict(results, orient=\"index\", columns=[module_type])\n",
        "def test_result(history, module_type='Test'):\n",
        "  results = {\n",
        "      'Loss' : history[0] ,\n",
        "      'Accuracy' : history[1],\n",
        "      'Precision' : history[2],\n",
        "      'Recall' :history[3],\n",
        "      'F1 Score' : history[4],\n",
        "      'Specificity': history[5],\n",
        "      'Mean Absolute Error': history[6],\n",
        "      'R2 Score' : history[7],\n",
        "      }\n",
        "  return pd.DataFrame.from_dict(results, orient=\"index\", columns=[module_type])"
      ],
      "metadata": {
        "id": "nPEVXf2T2vWC"
      },
      "execution_count": 2,
      "outputs": []
    },
    {
      "cell_type": "code",
      "source": [
        "# Load Mnist Dataset\n",
        "(x_train, y_train), (x_test, y_test) = datasets.mnist.load_data()\n",
        "x_train = tf.pad(x_train, [[0, 0], [2, 2], [2, 2]]) / 255\n",
        "x_test = tf.pad(x_test, [[0, 0], [2, 2], [2, 2]]) / 255\n",
        "x_train = tf.expand_dims(x_train, axis=3, name=None)\n",
        "x_test = tf.expand_dims(x_test, axis=3, name=None)\n",
        "x_train = tf.repeat(x_train, 3, axis=3)\n",
        "x_test = tf.repeat(x_test, 3, axis=3)\n",
        "# x_val = x_train[-2000:, :, :, :]\n",
        "# y_val = y_train[-2000:]\n",
        "# x_train = x_train[:-2000, :, :, :]\n",
        "# y_train = y_train[:-2000]\n",
        "x_val = x_test\n",
        "y_val =y_test\n",
        "\n",
        "num_classes=10\n",
        "\n",
        "# Convert labels to categorical\n",
        "y_train = tf.keras.utils.to_categorical(y_train, num_classes)\n",
        "y_val = tf.keras.utils.to_categorical(y_val, num_classes)\n",
        "y_test = tf.keras.utils.to_categorical(y_test, num_classes)"
      ],
      "metadata": {
        "id": "qux7uJr5pzoL",
        "colab": {
          "base_uri": "https://localhost:8080/"
        },
        "outputId": "3182f7db-c80b-49bb-aab6-43332c286454"
      },
      "execution_count": 3,
      "outputs": [
        {
          "output_type": "stream",
          "name": "stdout",
          "text": [
            "Downloading data from https://storage.googleapis.com/tensorflow/tf-keras-datasets/mnist.npz\n",
            "11490434/11490434 [==============================] - 1s 0us/step\n"
          ]
        }
      ]
    },
    {
      "cell_type": "code",
      "source": [
        "# AlexNet structure based on its article\n",
        "model = models.Sequential()\n",
        "model.add(tf.keras.layers.experimental.preprocessing.Resizing(224, 224, input_shape=x_train.shape[1:])) # Resize Data\n",
        "model.add(layers.Conv2D(96, 11, strides=4, padding='same'))\n",
        "model.add(layers.Lambda(tf.nn.local_response_normalization))\n",
        "model.add(layers.Activation('relu'))\n",
        "model.add(layers.MaxPooling2D(3, strides=2))\n",
        "model.add(layers.Conv2D(256, 5, strides=4, padding='same'))\n",
        "model.add(layers.Lambda(tf.nn.local_response_normalization))\n",
        "model.add(layers.Activation('relu'))\n",
        "model.add(layers.MaxPooling2D(3, strides=2))\n",
        "model.add(layers.Conv2D(384, 3, strides=4, padding='same'))\n",
        "model.add(layers.Activation('relu'))\n",
        "model.add(layers.Conv2D(384, 3, strides=4, padding='same'))\n",
        "model.add(layers.Activation('relu'))\n",
        "model.add(layers.Conv2D(256, 3, strides=4, padding='same'))\n",
        "model.add(layers.Activation('relu'))\n",
        "model.add(layers.Flatten())\n",
        "model.add(layers.Dense(4096, activation='relu'))\n",
        "model.add(layers.Dropout(0.5))\n",
        "model.add(layers.Dense(4096, activation='relu'))\n",
        "model.add(layers.Dropout(0.5))\n",
        "model.add(layers.Dense(10, activation='softmax'))\n",
        "model.summary()"
      ],
      "metadata": {
        "id": "XULUPg7FqMkz",
        "colab": {
          "base_uri": "https://localhost:8080/"
        },
        "outputId": "f1359251-d689-436d-e625-c219d2095910"
      },
      "execution_count": 4,
      "outputs": [
        {
          "output_type": "stream",
          "name": "stdout",
          "text": [
            "Model: \"sequential\"\n",
            "_________________________________________________________________\n",
            " Layer (type)                Output Shape              Param #   \n",
            "=================================================================\n",
            " resizing (Resizing)         (None, 224, 224, 3)       0         \n",
            "                                                                 \n",
            " conv2d (Conv2D)             (None, 56, 56, 96)        34944     \n",
            "                                                                 \n",
            " lambda (Lambda)             (None, 56, 56, 96)        0         \n",
            "                                                                 \n",
            " activation (Activation)     (None, 56, 56, 96)        0         \n",
            "                                                                 \n",
            " max_pooling2d (MaxPooling2D  (None, 27, 27, 96)       0         \n",
            " )                                                               \n",
            "                                                                 \n",
            " conv2d_1 (Conv2D)           (None, 7, 7, 256)         614656    \n",
            "                                                                 \n",
            " lambda_1 (Lambda)           (None, 7, 7, 256)         0         \n",
            "                                                                 \n",
            " activation_1 (Activation)   (None, 7, 7, 256)         0         \n",
            "                                                                 \n",
            " max_pooling2d_1 (MaxPooling  (None, 3, 3, 256)        0         \n",
            " 2D)                                                             \n",
            "                                                                 \n",
            " conv2d_2 (Conv2D)           (None, 1, 1, 384)         885120    \n",
            "                                                                 \n",
            " activation_2 (Activation)   (None, 1, 1, 384)         0         \n",
            "                                                                 \n",
            " conv2d_3 (Conv2D)           (None, 1, 1, 384)         1327488   \n",
            "                                                                 \n",
            " activation_3 (Activation)   (None, 1, 1, 384)         0         \n",
            "                                                                 \n",
            " conv2d_4 (Conv2D)           (None, 1, 1, 256)         884992    \n",
            "                                                                 \n",
            " activation_4 (Activation)   (None, 1, 1, 256)         0         \n",
            "                                                                 \n",
            " flatten (Flatten)           (None, 256)               0         \n",
            "                                                                 \n",
            " dense (Dense)               (None, 4096)              1052672   \n",
            "                                                                 \n",
            " dropout (Dropout)           (None, 4096)              0         \n",
            "                                                                 \n",
            " dense_1 (Dense)             (None, 4096)              16781312  \n",
            "                                                                 \n",
            " dropout_1 (Dropout)         (None, 4096)              0         \n",
            "                                                                 \n",
            " dense_2 (Dense)             (None, 10)                40970     \n",
            "                                                                 \n",
            "=================================================================\n",
            "Total params: 21,622,154\n",
            "Trainable params: 21,622,154\n",
            "Non-trainable params: 0\n",
            "_________________________________________________________________\n"
          ]
        }
      ]
    },
    {
      "cell_type": "code",
      "source": [
        "# Model Setting\n",
        "learning_rate = 0.5\n",
        "weight_decay = 5e-4\n",
        "batch_size = 256\n",
        "epochs = 30\n",
        "optimizer = tf.keras.optimizers.SGD(learning_rate=learning_rate, decay=weight_decay)\n",
        "loss = tf.keras.losses.CategoricalCrossentropy()\n",
        "metrics = ['accuracy',\n",
        "                      tf.keras.metrics.Precision(),\n",
        "                      tf.keras.metrics.Recall(),\n",
        "                      tfa.metrics.F1Score(num_classes,average='macro'),\n",
        "                      tf.keras.metrics.SpecificityAtSensitivity(0.5),\n",
        "                      tf.keras.metrics.MeanAbsoluteError(),\n",
        "                      tfa.metrics.RSquare()]\n"
      ],
      "metadata": {
        "id": "ZzdgYpgzqRc6"
      },
      "execution_count": 5,
      "outputs": []
    },
    {
      "cell_type": "code",
      "source": [
        "# Compile model \n",
        "model.compile(optimizer=optimizer, loss=loss, metrics=metrics)\n",
        "# Train Model\n",
        "history = model.fit(x_train, y_train, batch_size=batch_size, epochs=epochs, validation_data=(x_val, y_val))\n",
        "\n",
        "# Model Evaluation\n",
        "evaluate_result = model.evaluate(x_test, y_test, batch_size=batch_size)\n",
        "print(evaluate_result)"
      ],
      "metadata": {
        "id": "pc4asxDErZrK",
        "colab": {
          "base_uri": "https://localhost:8080/"
        },
        "outputId": "616b69fc-5e6e-4529-c45d-16b25a0431dd"
      },
      "execution_count": 6,
      "outputs": [
        {
          "output_type": "stream",
          "name": "stdout",
          "text": [
            "Epoch 1/30\n",
            "235/235 [==============================] - 125s 480ms/step - loss: 2.1410 - accuracy: 0.1940 - precision: 0.8644 - recall: 0.0548 - f1_score: 0.1309 - specificity_at_sensitivity: 0.4938 - mean_absolute_error: 0.1691 - r_square: 0.0539 - val_loss: 2.2352 - val_accuracy: 0.1441 - val_precision: 0.0000e+00 - val_recall: 0.0000e+00 - val_f1_score: 0.0785 - val_specificity_at_sensitivity: 0.5500 - val_mean_absolute_error: 0.1779 - val_r_square: 0.0137\n",
            "Epoch 2/30\n",
            "235/235 [==============================] - 110s 469ms/step - loss: 1.6077 - accuracy: 0.3479 - precision: 0.7729 - recall: 0.1433 - f1_score: 0.3242 - specificity_at_sensitivity: 0.8841 - mean_absolute_error: 0.1425 - r_square: 0.1950 - val_loss: 1.3961 - val_accuracy: 0.4239 - val_precision: 0.9563 - val_recall: 0.1183 - val_f1_score: 0.3108 - val_specificity_at_sensitivity: 0.9183 - val_mean_absolute_error: 0.1361 - val_r_square: 0.2559\n",
            "Epoch 3/30\n",
            "235/235 [==============================] - 110s 469ms/step - loss: 1.2756 - accuracy: 0.5419 - precision: 0.7900 - recall: 0.4049 - f1_score: 0.5479 - specificity_at_sensitivity: 0.9739 - mean_absolute_error: 0.1085 - r_square: 0.3822 - val_loss: 2.3018 - val_accuracy: 0.1568 - val_precision: 0.0000e+00 - val_recall: 0.0000e+00 - val_f1_score: 0.0663 - val_specificity_at_sensitivity: 0.3976 - val_mean_absolute_error: 0.1799 - val_r_square: 1.9848e-05\n",
            "Epoch 4/30\n",
            "235/235 [==============================] - 114s 487ms/step - loss: 1.4466 - accuracy: 0.4476 - precision: 0.7611 - recall: 0.2777 - f1_score: 0.4433 - specificity_at_sensitivity: 0.9457 - mean_absolute_error: 0.1287 - r_square: 0.2918 - val_loss: 0.4222 - val_accuracy: 0.8685 - val_precision: 0.8926 - val_recall: 0.8477 - val_f1_score: 0.8671 - val_specificity_at_sensitivity: 0.9989 - val_mean_absolute_error: 0.0452 - val_r_square: 0.7669\n",
            "Epoch 5/30\n",
            "235/235 [==============================] - 110s 468ms/step - loss: 0.2265 - accuracy: 0.9356 - precision: 0.9491 - recall: 0.9250 - f1_score: 0.9353 - specificity_at_sensitivity: 0.9999 - mean_absolute_error: 0.0211 - r_square: 0.8902 - val_loss: 0.1837 - val_accuracy: 0.9523 - val_precision: 0.9577 - val_recall: 0.9476 - val_f1_score: 0.9534 - val_specificity_at_sensitivity: 0.9998 - val_mean_absolute_error: 0.0131 - val_r_square: 0.9138\n",
            "Epoch 6/30\n",
            "235/235 [==============================] - 110s 469ms/step - loss: 0.0864 - accuracy: 0.9763 - precision: 0.9812 - recall: 0.9723 - f1_score: 0.9761 - specificity_at_sensitivity: 0.9999 - mean_absolute_error: 0.0076 - r_square: 0.9591 - val_loss: 0.1858 - val_accuracy: 0.9483 - val_precision: 0.9546 - val_recall: 0.9410 - val_f1_score: 0.9469 - val_specificity_at_sensitivity: 0.9995 - val_mean_absolute_error: 0.0133 - val_r_square: 0.9056\n",
            "Epoch 7/30\n",
            "235/235 [==============================] - 110s 468ms/step - loss: 0.0564 - accuracy: 0.9840 - precision: 0.9872 - recall: 0.9818 - f1_score: 0.9839 - specificity_at_sensitivity: 0.9999 - mean_absolute_error: 0.0051 - r_square: 0.9726 - val_loss: 0.3249 - val_accuracy: 0.9041 - val_precision: 0.9095 - val_recall: 0.8998 - val_f1_score: 0.8986 - val_specificity_at_sensitivity: 0.9992 - val_mean_absolute_error: 0.0209 - val_r_square: 0.8329\n",
            "Epoch 8/30\n",
            "235/235 [==============================] - 110s 469ms/step - loss: 0.1324 - accuracy: 0.9674 - precision: 0.9796 - recall: 0.9596 - f1_score: 0.9676 - specificity_at_sensitivity: 0.9999 - mean_absolute_error: 0.0104 - r_square: 0.9445 - val_loss: 0.0507 - val_accuracy: 0.9850 - val_precision: 0.9878 - val_recall: 0.9827 - val_f1_score: 0.9849 - val_specificity_at_sensitivity: 1.0000 - val_mean_absolute_error: 0.0045 - val_r_square: 0.9747\n",
            "Epoch 9/30\n",
            "235/235 [==============================] - 114s 486ms/step - loss: 0.0400 - accuracy: 0.9882 - precision: 0.9902 - recall: 0.9865 - f1_score: 0.9881 - specificity_at_sensitivity: 1.0000 - mean_absolute_error: 0.0038 - r_square: 0.9798 - val_loss: 0.0544 - val_accuracy: 0.9847 - val_precision: 0.9875 - val_recall: 0.9831 - val_f1_score: 0.9846 - val_specificity_at_sensitivity: 0.9999 - val_mean_absolute_error: 0.0040 - val_r_square: 0.9737\n",
            "Epoch 10/30\n",
            "235/235 [==============================] - 114s 486ms/step - loss: 0.0313 - accuracy: 0.9910 - precision: 0.9925 - recall: 0.9899 - f1_score: 0.9910 - specificity_at_sensitivity: 1.0000 - mean_absolute_error: 0.0029 - r_square: 0.9844 - val_loss: 0.0631 - val_accuracy: 0.9820 - val_precision: 0.9842 - val_recall: 0.9811 - val_f1_score: 0.9818 - val_specificity_at_sensitivity: 0.9999 - val_mean_absolute_error: 0.0044 - val_r_square: 0.9696\n",
            "Epoch 11/30\n",
            "235/235 [==============================] - 114s 486ms/step - loss: 0.0234 - accuracy: 0.9931 - precision: 0.9941 - recall: 0.9923 - f1_score: 0.9931 - specificity_at_sensitivity: 1.0000 - mean_absolute_error: 0.0022 - r_square: 0.9882 - val_loss: 0.0422 - val_accuracy: 0.9882 - val_precision: 0.9899 - val_recall: 0.9872 - val_f1_score: 0.9881 - val_specificity_at_sensitivity: 0.9999 - val_mean_absolute_error: 0.0029 - val_r_square: 0.9798\n",
            "Epoch 12/30\n",
            "235/235 [==============================] - 110s 469ms/step - loss: 0.0172 - accuracy: 0.9952 - precision: 0.9959 - recall: 0.9945 - f1_score: 0.9952 - specificity_at_sensitivity: 1.0000 - mean_absolute_error: 0.0017 - r_square: 0.9916 - val_loss: 0.0430 - val_accuracy: 0.9879 - val_precision: 0.9888 - val_recall: 0.9874 - val_f1_score: 0.9878 - val_specificity_at_sensitivity: 0.9998 - val_mean_absolute_error: 0.0028 - val_r_square: 0.9792\n",
            "Epoch 13/30\n",
            "235/235 [==============================] - 114s 486ms/step - loss: 0.0141 - accuracy: 0.9961 - precision: 0.9965 - recall: 0.9956 - f1_score: 0.9961 - specificity_at_sensitivity: 1.0000 - mean_absolute_error: 0.0014 - r_square: 0.9930 - val_loss: 0.0412 - val_accuracy: 0.9886 - val_precision: 0.9895 - val_recall: 0.9878 - val_f1_score: 0.9885 - val_specificity_at_sensitivity: 0.9999 - val_mean_absolute_error: 0.0027 - val_r_square: 0.9801\n",
            "Epoch 14/30\n",
            "235/235 [==============================] - 110s 468ms/step - loss: 0.0121 - accuracy: 0.9967 - precision: 0.9969 - recall: 0.9964 - f1_score: 0.9967 - specificity_at_sensitivity: 1.0000 - mean_absolute_error: 0.0012 - r_square: 0.9941 - val_loss: 0.0467 - val_accuracy: 0.9873 - val_precision: 0.9883 - val_recall: 0.9871 - val_f1_score: 0.9872 - val_specificity_at_sensitivity: 0.9998 - val_mean_absolute_error: 0.0029 - val_r_square: 0.9777\n",
            "Epoch 15/30\n",
            "235/235 [==============================] - 114s 486ms/step - loss: 0.0087 - accuracy: 0.9977 - precision: 0.9979 - recall: 0.9974 - f1_score: 0.9977 - specificity_at_sensitivity: 1.0000 - mean_absolute_error: 9.3429e-04 - r_square: 0.9958 - val_loss: 0.0517 - val_accuracy: 0.9883 - val_precision: 0.9892 - val_recall: 0.9870 - val_f1_score: 0.9882 - val_specificity_at_sensitivity: 0.9998 - val_mean_absolute_error: 0.0029 - val_r_square: 0.9783\n",
            "Epoch 16/30\n",
            "235/235 [==============================] - 114s 486ms/step - loss: 0.0072 - accuracy: 0.9980 - precision: 0.9983 - recall: 0.9978 - f1_score: 0.9981 - specificity_at_sensitivity: 1.0000 - mean_absolute_error: 7.9134e-04 - r_square: 0.9965 - val_loss: 0.0453 - val_accuracy: 0.9889 - val_precision: 0.9898 - val_recall: 0.9884 - val_f1_score: 0.9888 - val_specificity_at_sensitivity: 0.9998 - val_mean_absolute_error: 0.0025 - val_r_square: 0.9802\n",
            "Epoch 17/30\n",
            "235/235 [==============================] - 110s 468ms/step - loss: 0.0054 - accuracy: 0.9985 - precision: 0.9987 - recall: 0.9984 - f1_score: 0.9985 - specificity_at_sensitivity: 1.0000 - mean_absolute_error: 6.3390e-04 - r_square: 0.9974 - val_loss: 0.0495 - val_accuracy: 0.9883 - val_precision: 0.9890 - val_recall: 0.9881 - val_f1_score: 0.9882 - val_specificity_at_sensitivity: 0.9998 - val_mean_absolute_error: 0.0025 - val_r_square: 0.9790\n",
            "Epoch 18/30\n",
            "235/235 [==============================] - 110s 469ms/step - loss: 0.0038 - accuracy: 0.9989 - precision: 0.9991 - recall: 0.9989 - f1_score: 0.9989 - specificity_at_sensitivity: 1.0000 - mean_absolute_error: 4.7884e-04 - r_square: 0.9983 - val_loss: 0.0488 - val_accuracy: 0.9883 - val_precision: 0.9890 - val_recall: 0.9881 - val_f1_score: 0.9882 - val_specificity_at_sensitivity: 0.9997 - val_mean_absolute_error: 0.0024 - val_r_square: 0.9795\n",
            "Epoch 19/30\n",
            "235/235 [==============================] - 110s 469ms/step - loss: 0.0031 - accuracy: 0.9992 - precision: 0.9992 - recall: 0.9991 - f1_score: 0.9992 - specificity_at_sensitivity: 1.0000 - mean_absolute_error: 3.8097e-04 - r_square: 0.9986 - val_loss: 0.0506 - val_accuracy: 0.9881 - val_precision: 0.9889 - val_recall: 0.9878 - val_f1_score: 0.9880 - val_specificity_at_sensitivity: 0.9998 - val_mean_absolute_error: 0.0025 - val_r_square: 0.9783\n",
            "Epoch 20/30\n",
            "235/235 [==============================] - 110s 468ms/step - loss: 0.0025 - accuracy: 0.9995 - precision: 0.9995 - recall: 0.9995 - f1_score: 0.9995 - specificity_at_sensitivity: 1.0000 - mean_absolute_error: 3.1025e-04 - r_square: 0.9990 - val_loss: 0.0499 - val_accuracy: 0.9893 - val_precision: 0.9898 - val_recall: 0.9891 - val_f1_score: 0.9892 - val_specificity_at_sensitivity: 0.9997 - val_mean_absolute_error: 0.0025 - val_r_square: 0.9790\n",
            "Epoch 21/30\n",
            "235/235 [==============================] - 110s 468ms/step - loss: 0.0021 - accuracy: 0.9997 - precision: 0.9997 - recall: 0.9996 - f1_score: 0.9997 - specificity_at_sensitivity: 1.0000 - mean_absolute_error: 2.5967e-04 - r_square: 0.9993 - val_loss: 0.0517 - val_accuracy: 0.9893 - val_precision: 0.9898 - val_recall: 0.9890 - val_f1_score: 0.9892 - val_specificity_at_sensitivity: 0.9997 - val_mean_absolute_error: 0.0024 - val_r_square: 0.9790\n",
            "Epoch 22/30\n",
            "235/235 [==============================] - 110s 468ms/step - loss: 0.0016 - accuracy: 0.9998 - precision: 0.9998 - recall: 0.9998 - f1_score: 0.9998 - specificity_at_sensitivity: 1.0000 - mean_absolute_error: 2.0455e-04 - r_square: 0.9995 - val_loss: 0.0495 - val_accuracy: 0.9889 - val_precision: 0.9895 - val_recall: 0.9887 - val_f1_score: 0.9888 - val_specificity_at_sensitivity: 0.9997 - val_mean_absolute_error: 0.0023 - val_r_square: 0.9797\n",
            "Epoch 23/30\n",
            "235/235 [==============================] - 110s 468ms/step - loss: 0.0015 - accuracy: 0.9998 - precision: 0.9998 - recall: 0.9998 - f1_score: 0.9998 - specificity_at_sensitivity: 1.0000 - mean_absolute_error: 1.8295e-04 - r_square: 0.9995 - val_loss: 0.0515 - val_accuracy: 0.9888 - val_precision: 0.9891 - val_recall: 0.9887 - val_f1_score: 0.9887 - val_specificity_at_sensitivity: 0.9997 - val_mean_absolute_error: 0.0024 - val_r_square: 0.9792\n",
            "Epoch 24/30\n",
            "235/235 [==============================] - 114s 486ms/step - loss: 0.0011 - accuracy: 0.9999 - precision: 0.9999 - recall: 0.9998 - f1_score: 0.9999 - specificity_at_sensitivity: 1.0000 - mean_absolute_error: 1.5328e-04 - r_square: 0.9997 - val_loss: 0.0527 - val_accuracy: 0.9893 - val_precision: 0.9899 - val_recall: 0.9891 - val_f1_score: 0.9892 - val_specificity_at_sensitivity: 0.9997 - val_mean_absolute_error: 0.0023 - val_r_square: 0.9795\n",
            "Epoch 25/30\n",
            "235/235 [==============================] - 110s 469ms/step - loss: 0.0010 - accuracy: 0.9999 - precision: 0.9999 - recall: 0.9999 - f1_score: 0.9999 - specificity_at_sensitivity: 1.0000 - mean_absolute_error: 1.2651e-04 - r_square: 0.9998 - val_loss: 0.0530 - val_accuracy: 0.9889 - val_precision: 0.9895 - val_recall: 0.9889 - val_f1_score: 0.9888 - val_specificity_at_sensitivity: 0.9997 - val_mean_absolute_error: 0.0023 - val_r_square: 0.9791\n",
            "Epoch 26/30\n",
            "235/235 [==============================] - 114s 486ms/step - loss: 8.7550e-04 - accuracy: 0.9999 - precision: 0.9999 - recall: 0.9999 - f1_score: 0.9999 - specificity_at_sensitivity: 1.0000 - mean_absolute_error: 1.0985e-04 - r_square: 0.9998 - val_loss: 0.0537 - val_accuracy: 0.9891 - val_precision: 0.9895 - val_recall: 0.9890 - val_f1_score: 0.9890 - val_specificity_at_sensitivity: 0.9997 - val_mean_absolute_error: 0.0023 - val_r_square: 0.9793\n",
            "Epoch 27/30\n",
            "235/235 [==============================] - 110s 469ms/step - loss: 8.6655e-04 - accuracy: 0.9999 - precision: 0.9999 - recall: 0.9999 - f1_score: 0.9999 - specificity_at_sensitivity: 1.0000 - mean_absolute_error: 1.0774e-04 - r_square: 0.9998 - val_loss: 0.0544 - val_accuracy: 0.9890 - val_precision: 0.9896 - val_recall: 0.9888 - val_f1_score: 0.9889 - val_specificity_at_sensitivity: 0.9997 - val_mean_absolute_error: 0.0023 - val_r_square: 0.9793\n",
            "Epoch 28/30\n",
            "235/235 [==============================] - 110s 469ms/step - loss: 8.1471e-04 - accuracy: 0.9999 - precision: 0.9999 - recall: 0.9999 - f1_score: 0.9999 - specificity_at_sensitivity: 1.0000 - mean_absolute_error: 9.6575e-05 - r_square: 0.9998 - val_loss: 0.0553 - val_accuracy: 0.9891 - val_precision: 0.9897 - val_recall: 0.9890 - val_f1_score: 0.9890 - val_specificity_at_sensitivity: 0.9996 - val_mean_absolute_error: 0.0023 - val_r_square: 0.9790\n",
            "Epoch 29/30\n",
            "235/235 [==============================] - 114s 486ms/step - loss: 7.1753e-04 - accuracy: 0.9999 - precision: 0.9999 - recall: 0.9999 - f1_score: 0.9999 - specificity_at_sensitivity: 1.0000 - mean_absolute_error: 8.3788e-05 - r_square: 0.9999 - val_loss: 0.0544 - val_accuracy: 0.9894 - val_precision: 0.9899 - val_recall: 0.9891 - val_f1_score: 0.9893 - val_specificity_at_sensitivity: 0.9997 - val_mean_absolute_error: 0.0023 - val_r_square: 0.9796\n",
            "Epoch 30/30\n",
            "235/235 [==============================] - 110s 469ms/step - loss: 7.3789e-04 - accuracy: 0.9999 - precision: 0.9999 - recall: 0.9999 - f1_score: 0.9999 - specificity_at_sensitivity: 1.0000 - mean_absolute_error: 8.2752e-05 - r_square: 0.9998 - val_loss: 0.0559 - val_accuracy: 0.9892 - val_precision: 0.9897 - val_recall: 0.9889 - val_f1_score: 0.9891 - val_specificity_at_sensitivity: 0.9997 - val_mean_absolute_error: 0.0023 - val_r_square: 0.9792\n",
            "40/40 [==============================] - 6s 159ms/step - loss: 0.0559 - accuracy: 0.9892 - precision: 0.9897 - recall: 0.9889 - f1_score: 0.9891 - specificity_at_sensitivity: 0.9997 - mean_absolute_error: 0.0023 - r_square: 0.9792\n",
            "[0.05589480698108673, 0.9891999959945679, 0.9896917343139648, 0.9889000058174133, 0.989113450050354, 0.999655544757843, 0.0022870050743222237, 0.9791814684867859]\n"
          ]
        }
      ]
    },
    {
      "cell_type": "code",
      "source": [
        "# Results\n",
        "train_results = train_result(history, module_type='Train')\n",
        "test_results = test_result(evaluate_result, module_type='Test')\n",
        "final_result = pd.concat([train_results, test_results], axis=1)\n",
        "print(final_result)\n"
      ],
      "metadata": {
        "id": "L721aGoL7hSB",
        "colab": {
          "base_uri": "https://localhost:8080/"
        },
        "outputId": "a4c0121d-4017-47b8-8d97-3269fedc53b4"
      },
      "execution_count": 7,
      "outputs": [
        {
          "output_type": "stream",
          "name": "stdout",
          "text": [
            "                        Train      Test\n",
            "Loss                 0.000738  0.055895\n",
            "Accuracy             0.999950  0.989200\n",
            "Precision            0.999950  0.989692\n",
            "Recall               0.999950  0.988900\n",
            "F1 Score             0.999950  0.989113\n",
            "Specificity          0.999996  0.999656\n",
            "Mean Absolute Error  0.000083  0.002287\n",
            "R2 Score             0.999848  0.979181\n"
          ]
        }
      ]
    },
    {
      "cell_type": "code",
      "execution_count": 8,
      "metadata": {
        "id": "8sNpXY4GyXfH",
        "colab": {
          "base_uri": "https://localhost:8080/",
          "height": 573
        },
        "outputId": "a9101ed0-6b16-4af4-f75c-37aab5276ade"
      },
      "outputs": [
        {
          "output_type": "display_data",
          "data": {
            "text/plain": [
              "<Figure size 432x288 with 1 Axes>"
            ],
            "image/png": "[encoded data removed]"
          },
          "metadata": {
            "needs_background": "light"
          }
        },
        {
          "output_type": "display_data",
          "data": {
            "text/plain": [
              "<Figure size 432x288 with 1 Axes>"
            ],
            "image/png": "[encoded data removed]"
          },
          "metadata": {
            "needs_background": "light"
          }
        }
      ],
      "source": [
        "#Plot Results\n",
        "import matplotlib.pyplot as plt\n",
        "plt.figure()\n",
        "plt.plot(history.history['loss'])\n",
        "plt.plot(history.history['val_loss'])\n",
        "plt.title('Training Loss vs Validation Loss')\n",
        "plt.xlabel('Epochs')\n",
        "plt.ylabel('Loss')\n",
        "plt.legend(['Train', 'Val'])\n",
        "plt.show()\n",
        "\n",
        "plt.figure()\n",
        "plt.plot(history.history['accuracy'])\n",
        "plt.plot(history.history['val_accuracy'])\n",
        "plt.title('Training Accuracy vs Validation Accuracy')\n",
        "plt.xlabel('Epochs')\n",
        "plt.ylabel('Accuracy')\n",
        "plt.legend(['Train', 'Val'])\n",
        "plt.show()\n"
      ]
    },
    {
      "cell_type": "code",
      "source": [
        "\n"
      ],
      "metadata": {
        "id": "NjSoO4BeZwIs"
      },
      "execution_count": 8,
      "outputs": []
    },
    {
      "cell_type": "code",
      "source": [],
      "metadata": {
        "id": "E1-V4ppHwDv1"
      },
      "execution_count": 8,
      "outputs": []
    }
  ]
}