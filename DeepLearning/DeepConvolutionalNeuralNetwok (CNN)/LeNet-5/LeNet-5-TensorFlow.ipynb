{
  "cells": [
    {
      "cell_type": "code",
      "execution_count": 1,
      "metadata": {
        "colab": {
          "base_uri": "https://localhost:8080/"
        },
        "id": "qETiTk3Woq0k",
        "outputId": "ed99aaaa-1b97-44f0-9313-2b4e9a31df41"
      },
      "outputs": [
        {
          "output_type": "stream",
          "name": "stdout",
          "text": [
            "Looking in indexes: https://pypi.org/simple, https://us-python.pkg.dev/colab-wheels/public/simple/\n",
            "Collecting tensorflow-addons\n",
            "  Downloading tensorflow_addons-0.19.0-cp38-cp38-manylinux_2_17_x86_64.manylinux2014_x86_64.whl (1.1 MB)\n",
            "\u001b[2K     \u001b[90m━━━━━━━━━━━━━━━━━━━━━━━━━━━━━━━━━━━━━━━━\u001b[0m \u001b[32m1.1/1.1 MB\u001b[0m \u001b[31m7.9 MB/s\u001b[0m eta \u001b[36m0:00:00\u001b[0m\n",
            "\u001b[?25hRequirement already satisfied: packaging in /usr/local/lib/python3.8/dist-packages (from tensorflow-addons) (23.0)\n",
            "Requirement already satisfied: typeguard>=2.7 in /usr/local/lib/python3.8/dist-packages (from tensorflow-addons) (2.7.1)\n",
            "Installing collected packages: tensorflow-addons\n",
            "Successfully installed tensorflow-addons-0.19.0\n"
          ]
        }
      ],
      "source": [
        "# Import and install requierd package\n",
        "import tensorflow as tf\n",
        "import matplotlib.pyplot as plt\n",
        "from keras import datasets, layers, models, losses\n",
        "!pip install tensorflow-addons\n",
        "import tensorflow_addons as tfa\n",
        "import pandas as pd"
      ]
    },
    {
      "cell_type": "code",
      "execution_count": 2,
      "metadata": {
        "id": "nPEVXf2T2vWC"
      },
      "outputs": [],
      "source": [
        "# Utility Functions\n",
        "def average(input_data):\n",
        "    return sum(input_data)/len(input_data)\n",
        "\n",
        "def train_result(history, module_type='Train'):\n",
        "  results = {\n",
        "      'Loss' : history.history['loss'][-1] ,\n",
        "      'Accuracy' : history.history['accuracy'][-1],\n",
        "      'Precision' : history.history['precision'][-1],\n",
        "      'Recall' : history.history['recall'][-1],\n",
        "      'F1 Score' : history.history['f1_score'][-1],\n",
        "      'Specificity': history.history['specificity_at_sensitivity'][-1],\n",
        "      'Mean Absolute Error':history.history['mean_absolute_error'][-1],\n",
        "      'R2 Score' : history.history['r_square'][-1],\n",
        "      }\n",
        "  return pd.DataFrame.from_dict(results, orient=\"index\", columns=[module_type])\n",
        "def test_result(history, module_type='Test'):\n",
        "  results = {\n",
        "      'Loss' : history[0] ,\n",
        "      'Accuracy' : history[1],\n",
        "      'Precision' : history[2],\n",
        "      'Recall' :history[3],\n",
        "      'F1 Score' : history[4],\n",
        "      'Specificity': history[5],\n",
        "      'Mean Absolute Error': history[6],\n",
        "      'R2 Score' : history[7],\n",
        "      }\n",
        "  return pd.DataFrame.from_dict(results, orient=\"index\", columns=[module_type])"
      ]
    },
    {
      "cell_type": "code",
      "execution_count": 3,
      "metadata": {
        "colab": {
          "base_uri": "https://localhost:8080/"
        },
        "id": "qux7uJr5pzoL",
        "outputId": "afadab99-65fe-4692-d50e-7c67dc27747f"
      },
      "outputs": [
        {
          "output_type": "stream",
          "name": "stdout",
          "text": [
            "Downloading data from https://storage.googleapis.com/tensorflow/tf-keras-datasets/mnist.npz\n",
            "11490434/11490434 [==============================] - 2s 0us/step\n"
          ]
        }
      ],
      "source": [
        "# Load Mnist Dataset\n",
        "(x_train, y_train), (x_test, y_test) = datasets.mnist.load_data()\n",
        "x_train = tf.pad(x_train, [[0, 0], [2, 2], [2, 2]]) / 255\n",
        "x_test = tf.pad(x_test, [[0, 0], [2, 2], [2, 2]]) / 255\n",
        "x_train = tf.expand_dims(x_train, axis=3, name=None)\n",
        "x_test = tf.expand_dims(x_test, axis=3, name=None)\n",
        "x_train = tf.repeat(x_train, 3, axis=3)\n",
        "x_test = tf.repeat(x_test, 3, axis=3)\n",
        "# x_val = x_train[-2000:, :, :, :]\n",
        "# y_val = y_train[-2000:]\n",
        "# x_train = x_train[:-2000, :, :, :]\n",
        "# y_train = y_train[:-2000]\n",
        "x_val = x_test\n",
        "y_val =y_test\n",
        "\n",
        "num_classes=10\n",
        "\n",
        "# Convert labels to categorical\n",
        "y_train = tf.keras.utils.to_categorical(y_train, num_classes)\n",
        "y_val = tf.keras.utils.to_categorical(y_val, num_classes)\n",
        "y_test = tf.keras.utils.to_categorical(y_test, num_classes)"
      ]
    },
    {
      "cell_type": "code",
      "execution_count": 4,
      "metadata": {
        "colab": {
          "base_uri": "https://localhost:8080/"
        },
        "id": "XULUPg7FqMkz",
        "outputId": "3bbf4b84-2815-4069-9b46-f050cb55cc6a"
      },
      "outputs": [
        {
          "output_type": "stream",
          "name": "stdout",
          "text": [
            "Model: \"sequential\"\n",
            "_________________________________________________________________\n",
            " Layer (type)                Output Shape              Param #   \n",
            "=================================================================\n",
            " conv2d (Conv2D)             (None, 28, 28, 6)         456       \n",
            "                                                                 \n",
            " average_pooling2d (AverageP  (None, 14, 14, 6)        0         \n",
            " ooling2D)                                                       \n",
            "                                                                 \n",
            " conv2d_1 (Conv2D)           (None, 10, 10, 16)        2416      \n",
            "                                                                 \n",
            " average_pooling2d_1 (Averag  (None, 5, 5, 16)         0         \n",
            " ePooling2D)                                                     \n",
            "                                                                 \n",
            " conv2d_2 (Conv2D)           (None, 1, 1, 120)         48120     \n",
            "                                                                 \n",
            " flatten (Flatten)           (None, 120)               0         \n",
            "                                                                 \n",
            " dense (Dense)               (None, 84)                10164     \n",
            "                                                                 \n",
            " dense_1 (Dense)             (None, 10)                850       \n",
            "                                                                 \n",
            "=================================================================\n",
            "Total params: 62,006\n",
            "Trainable params: 62,006\n",
            "Non-trainable params: 0\n",
            "_________________________________________________________________\n"
          ]
        }
      ],
      "source": [
        "# lecunNet-5 structure based on its article\n",
        "model = models.Sequential()\n",
        "model.add(\n",
        "    layers.Conv2D(filters=6, kernel_size=5, activation='tanh', strides=1, input_shape=x_train.shape[1:]))\n",
        "model.add(layers.AveragePooling2D(pool_size=2))\n",
        "model.add(layers.Conv2D(filters=16, kernel_size=5, activation='tanh', strides=1))\n",
        "model.add(layers.AveragePooling2D(pool_size=2))\n",
        "model.add(layers.Conv2D(filters=120, kernel_size=5, strides=1, activation='tanh'))\n",
        "model.add(layers.Flatten())\n",
        "model.add(layers.Dense(84, activation='tanh'))\n",
        "model.add(layers.Dense(10, activation='softmax'))\n",
        "model.summary()"
      ]
    },
    {
      "cell_type": "code",
      "execution_count": 5,
      "metadata": {
        "id": "ZzdgYpgzqRc6"
      },
      "outputs": [],
      "source": [
        "# Model Setting\n",
        "learning_rate = 0.01\n",
        "weight_decay = 5e-4\n",
        "batch_size = 256\n",
        "epochs = 40\n",
        "optimizer = tf.keras.optimizers.SGD(learning_rate=learning_rate, decay=weight_decay)\n",
        "loss = tf.keras.losses.CategoricalCrossentropy()\n",
        "metrics = ['accuracy',\n",
        "                      tf.keras.metrics.Precision(),\n",
        "                      tf.keras.metrics.Recall(),\n",
        "                      tfa.metrics.F1Score(num_classes,average='macro'),\n",
        "                      tf.keras.metrics.SpecificityAtSensitivity(0.5),\n",
        "                      tf.keras.metrics.MeanAbsoluteError(),\n",
        "                      tfa.metrics.RSquare()]\n"
      ]
    },
    {
      "cell_type": "code",
      "execution_count": 6,
      "metadata": {
        "colab": {
          "base_uri": "https://localhost:8080/"
        },
        "id": "pc4asxDErZrK",
        "outputId": "0dd49f72-a3d1-4db7-c18d-30bca4ba2d04"
      },
      "outputs": [
        {
          "output_type": "stream",
          "name": "stdout",
          "text": [
            "Epoch 1/40\n",
            "235/235 [==============================] - 12s 12ms/step - loss: 1.6605 - accuracy: 0.6202 - precision: 0.9888 - recall: 0.0926 - f1_score: 0.6073 - specificity_at_sensitivity: 0.9657 - mean_absolute_error: 0.1539 - r_square: 0.2205 - val_loss: 0.9237 - val_accuracy: 0.8124 - val_precision: 0.9868 - val_recall: 0.4200 - val_f1_score: 0.8066 - val_specificity_at_sensitivity: 0.9984 - val_mean_absolute_error: 0.1090 - val_r_square: 0.5400\n",
            "Epoch 2/40\n",
            "235/235 [==============================] - 3s 12ms/step - loss: 0.7138 - accuracy: 0.8396 - precision: 0.9604 - recall: 0.6162 - f1_score: 0.8364 - specificity_at_sensitivity: 0.9988 - mean_absolute_error: 0.0859 - r_square: 0.6475 - val_loss: 0.5586 - val_accuracy: 0.8721 - val_precision: 0.9519 - val_recall: 0.7526 - val_f1_score: 0.8696 - val_specificity_at_sensitivity: 0.9992 - val_mean_absolute_error: 0.0690 - val_r_square: 0.7276\n",
            "Epoch 3/40\n",
            "235/235 [==============================] - 4s 17ms/step - loss: 0.5183 - accuracy: 0.8731 - precision: 0.9440 - recall: 0.7817 - f1_score: 0.8711 - specificity_at_sensitivity: 0.9994 - mean_absolute_error: 0.0627 - r_square: 0.7478 - val_loss: 0.4544 - val_accuracy: 0.8900 - val_precision: 0.9424 - val_recall: 0.8204 - val_f1_score: 0.8881 - val_specificity_at_sensitivity: 0.9995 - val_mean_absolute_error: 0.0551 - val_r_square: 0.7800\n",
            "Epoch 4/40\n",
            "235/235 [==============================] - 4s 18ms/step - loss: 0.4431 - accuracy: 0.8855 - precision: 0.9376 - recall: 0.8271 - f1_score: 0.8838 - specificity_at_sensitivity: 0.9995 - mean_absolute_error: 0.0526 - r_square: 0.7849 - val_loss: 0.4020 - val_accuracy: 0.8980 - val_precision: 0.9408 - val_recall: 0.8488 - val_f1_score: 0.8964 - val_specificity_at_sensitivity: 0.9996 - val_mean_absolute_error: 0.0479 - val_r_square: 0.8057\n",
            "Epoch 5/40\n",
            "235/235 [==============================] - 4s 17ms/step - loss: 0.4012 - accuracy: 0.8925 - precision: 0.9362 - recall: 0.8480 - f1_score: 0.8910 - specificity_at_sensitivity: 0.9996 - mean_absolute_error: 0.0469 - r_square: 0.8052 - val_loss: 0.3699 - val_accuracy: 0.9003 - val_precision: 0.9390 - val_recall: 0.8650 - val_f1_score: 0.8987 - val_specificity_at_sensitivity: 0.9997 - val_mean_absolute_error: 0.0434 - val_r_square: 0.8205\n",
            "Epoch 6/40\n",
            "235/235 [==============================] - 4s 18ms/step - loss: 0.3737 - accuracy: 0.8978 - precision: 0.9361 - recall: 0.8602 - f1_score: 0.8963 - specificity_at_sensitivity: 0.9997 - mean_absolute_error: 0.0431 - r_square: 0.8182 - val_loss: 0.3474 - val_accuracy: 0.9060 - val_precision: 0.9393 - val_recall: 0.8737 - val_f1_score: 0.9047 - val_specificity_at_sensitivity: 0.9997 - val_mean_absolute_error: 0.0403 - val_r_square: 0.8310\n",
            "Epoch 7/40\n",
            "235/235 [==============================] - 4s 18ms/step - loss: 0.3539 - accuracy: 0.9013 - precision: 0.9364 - recall: 0.8690 - f1_score: 0.8999 - specificity_at_sensitivity: 0.9997 - mean_absolute_error: 0.0404 - r_square: 0.8274 - val_loss: 0.3305 - val_accuracy: 0.9095 - val_precision: 0.9399 - val_recall: 0.8804 - val_f1_score: 0.9083 - val_specificity_at_sensitivity: 0.9997 - val_mean_absolute_error: 0.0380 - val_r_square: 0.8388\n",
            "Epoch 8/40\n",
            "235/235 [==============================] - 3s 14ms/step - loss: 0.3386 - accuracy: 0.9054 - precision: 0.9370 - recall: 0.8750 - f1_score: 0.9042 - specificity_at_sensitivity: 0.9997 - mean_absolute_error: 0.0383 - r_square: 0.8345 - val_loss: 0.3168 - val_accuracy: 0.9120 - val_precision: 0.9405 - val_recall: 0.8863 - val_f1_score: 0.9109 - val_specificity_at_sensitivity: 0.9997 - val_mean_absolute_error: 0.0362 - val_r_square: 0.8450\n",
            "Epoch 9/40\n",
            "235/235 [==============================] - 2s 9ms/step - loss: 0.3261 - accuracy: 0.9079 - precision: 0.9381 - recall: 0.8798 - f1_score: 0.9067 - specificity_at_sensitivity: 0.9997 - mean_absolute_error: 0.0366 - r_square: 0.8402 - val_loss: 0.3060 - val_accuracy: 0.9155 - val_precision: 0.9411 - val_recall: 0.8910 - val_f1_score: 0.9145 - val_specificity_at_sensitivity: 0.9997 - val_mean_absolute_error: 0.0348 - val_r_square: 0.8501\n",
            "Epoch 10/40\n",
            "235/235 [==============================] - 2s 10ms/step - loss: 0.3158 - accuracy: 0.9103 - precision: 0.9389 - recall: 0.8844 - f1_score: 0.9092 - specificity_at_sensitivity: 0.9998 - mean_absolute_error: 0.0353 - r_square: 0.8451 - val_loss: 0.2965 - val_accuracy: 0.9172 - val_precision: 0.9417 - val_recall: 0.8944 - val_f1_score: 0.9162 - val_specificity_at_sensitivity: 0.9997 - val_mean_absolute_error: 0.0335 - val_r_square: 0.8544\n",
            "Epoch 11/40\n",
            "235/235 [==============================] - 2s 10ms/step - loss: 0.3068 - accuracy: 0.9121 - precision: 0.9398 - recall: 0.8881 - f1_score: 0.9110 - specificity_at_sensitivity: 0.9998 - mean_absolute_error: 0.0342 - r_square: 0.8492 - val_loss: 0.2887 - val_accuracy: 0.9195 - val_precision: 0.9431 - val_recall: 0.8966 - val_f1_score: 0.9185 - val_specificity_at_sensitivity: 0.9998 - val_mean_absolute_error: 0.0325 - val_r_square: 0.8582\n",
            "Epoch 12/40\n",
            "235/235 [==============================] - 2s 9ms/step - loss: 0.2990 - accuracy: 0.9143 - precision: 0.9408 - recall: 0.8910 - f1_score: 0.9132 - specificity_at_sensitivity: 0.9998 - mean_absolute_error: 0.0332 - r_square: 0.8529 - val_loss: 0.2817 - val_accuracy: 0.9213 - val_precision: 0.9440 - val_recall: 0.8996 - val_f1_score: 0.9204 - val_specificity_at_sensitivity: 0.9998 - val_mean_absolute_error: 0.0316 - val_r_square: 0.8614\n",
            "Epoch 13/40\n",
            "235/235 [==============================] - 2s 9ms/step - loss: 0.2920 - accuracy: 0.9159 - precision: 0.9419 - recall: 0.8939 - f1_score: 0.9149 - specificity_at_sensitivity: 0.9998 - mean_absolute_error: 0.0323 - r_square: 0.8562 - val_loss: 0.2750 - val_accuracy: 0.9221 - val_precision: 0.9448 - val_recall: 0.9015 - val_f1_score: 0.9212 - val_specificity_at_sensitivity: 0.9998 - val_mean_absolute_error: 0.0308 - val_r_square: 0.8645\n",
            "Epoch 14/40\n",
            "235/235 [==============================] - 2s 9ms/step - loss: 0.2858 - accuracy: 0.9176 - precision: 0.9425 - recall: 0.8963 - f1_score: 0.9166 - specificity_at_sensitivity: 0.9998 - mean_absolute_error: 0.0316 - r_square: 0.8591 - val_loss: 0.2694 - val_accuracy: 0.9236 - val_precision: 0.9456 - val_recall: 0.9041 - val_f1_score: 0.9228 - val_specificity_at_sensitivity: 0.9998 - val_mean_absolute_error: 0.0301 - val_r_square: 0.8671\n",
            "Epoch 15/40\n",
            "235/235 [==============================] - 2s 9ms/step - loss: 0.2801 - accuracy: 0.9192 - precision: 0.9434 - recall: 0.8986 - f1_score: 0.9182 - specificity_at_sensitivity: 0.9998 - mean_absolute_error: 0.0309 - r_square: 0.8618 - val_loss: 0.2640 - val_accuracy: 0.9252 - val_precision: 0.9464 - val_recall: 0.9055 - val_f1_score: 0.9244 - val_specificity_at_sensitivity: 0.9998 - val_mean_absolute_error: 0.0295 - val_r_square: 0.8697\n",
            "Epoch 16/40\n",
            "235/235 [==============================] - 3s 12ms/step - loss: 0.2748 - accuracy: 0.9209 - precision: 0.9444 - recall: 0.9004 - f1_score: 0.9200 - specificity_at_sensitivity: 0.9998 - mean_absolute_error: 0.0303 - r_square: 0.8643 - val_loss: 0.2593 - val_accuracy: 0.9263 - val_precision: 0.9469 - val_recall: 0.9076 - val_f1_score: 0.9255 - val_specificity_at_sensitivity: 0.9998 - val_mean_absolute_error: 0.0289 - val_r_square: 0.8720\n",
            "Epoch 17/40\n",
            "235/235 [==============================] - 2s 9ms/step - loss: 0.2700 - accuracy: 0.9222 - precision: 0.9451 - recall: 0.9024 - f1_score: 0.9213 - specificity_at_sensitivity: 0.9999 - mean_absolute_error: 0.0297 - r_square: 0.8666 - val_loss: 0.2546 - val_accuracy: 0.9271 - val_precision: 0.9474 - val_recall: 0.9099 - val_f1_score: 0.9264 - val_specificity_at_sensitivity: 0.9998 - val_mean_absolute_error: 0.0284 - val_r_square: 0.8742\n",
            "Epoch 18/40\n",
            "235/235 [==============================] - 2s 9ms/step - loss: 0.2655 - accuracy: 0.9234 - precision: 0.9459 - recall: 0.9041 - f1_score: 0.9225 - specificity_at_sensitivity: 0.9999 - mean_absolute_error: 0.0292 - r_square: 0.8687 - val_loss: 0.2509 - val_accuracy: 0.9284 - val_precision: 0.9489 - val_recall: 0.9116 - val_f1_score: 0.9276 - val_specificity_at_sensitivity: 0.9998 - val_mean_absolute_error: 0.0279 - val_r_square: 0.8761\n",
            "Epoch 19/40\n",
            "235/235 [==============================] - 2s 9ms/step - loss: 0.2614 - accuracy: 0.9249 - precision: 0.9467 - recall: 0.9056 - f1_score: 0.9240 - specificity_at_sensitivity: 0.9998 - mean_absolute_error: 0.0287 - r_square: 0.8707 - val_loss: 0.2467 - val_accuracy: 0.9295 - val_precision: 0.9490 - val_recall: 0.9126 - val_f1_score: 0.9288 - val_specificity_at_sensitivity: 0.9998 - val_mean_absolute_error: 0.0275 - val_r_square: 0.8780\n",
            "Epoch 20/40\n",
            "235/235 [==============================] - 2s 9ms/step - loss: 0.2575 - accuracy: 0.9260 - precision: 0.9474 - recall: 0.9075 - f1_score: 0.9252 - specificity_at_sensitivity: 0.9998 - mean_absolute_error: 0.0283 - r_square: 0.8726 - val_loss: 0.2433 - val_accuracy: 0.9303 - val_precision: 0.9495 - val_recall: 0.9142 - val_f1_score: 0.9296 - val_specificity_at_sensitivity: 0.9998 - val_mean_absolute_error: 0.0270 - val_r_square: 0.8796\n",
            "Epoch 21/40\n",
            "235/235 [==============================] - 2s 10ms/step - loss: 0.2538 - accuracy: 0.9269 - precision: 0.9478 - recall: 0.9086 - f1_score: 0.9260 - specificity_at_sensitivity: 0.9999 - mean_absolute_error: 0.0279 - r_square: 0.8743 - val_loss: 0.2396 - val_accuracy: 0.9318 - val_precision: 0.9499 - val_recall: 0.9156 - val_f1_score: 0.9312 - val_specificity_at_sensitivity: 0.9998 - val_mean_absolute_error: 0.0266 - val_r_square: 0.8814\n",
            "Epoch 22/40\n",
            "235/235 [==============================] - 2s 11ms/step - loss: 0.2504 - accuracy: 0.9279 - precision: 0.9484 - recall: 0.9103 - f1_score: 0.9271 - specificity_at_sensitivity: 0.9999 - mean_absolute_error: 0.0275 - r_square: 0.8760 - val_loss: 0.2365 - val_accuracy: 0.9331 - val_precision: 0.9507 - val_recall: 0.9171 - val_f1_score: 0.9325 - val_specificity_at_sensitivity: 0.9998 - val_mean_absolute_error: 0.0263 - val_r_square: 0.8830\n",
            "Epoch 23/40\n",
            "235/235 [==============================] - 2s 9ms/step - loss: 0.2471 - accuracy: 0.9287 - precision: 0.9489 - recall: 0.9116 - f1_score: 0.9279 - specificity_at_sensitivity: 0.9999 - mean_absolute_error: 0.0271 - r_square: 0.8776 - val_loss: 0.2334 - val_accuracy: 0.9335 - val_precision: 0.9510 - val_recall: 0.9184 - val_f1_score: 0.9329 - val_specificity_at_sensitivity: 0.9999 - val_mean_absolute_error: 0.0259 - val_r_square: 0.8844\n",
            "Epoch 24/40\n",
            "235/235 [==============================] - 2s 9ms/step - loss: 0.2440 - accuracy: 0.9294 - precision: 0.9492 - recall: 0.9125 - f1_score: 0.9287 - specificity_at_sensitivity: 0.9999 - mean_absolute_error: 0.0268 - r_square: 0.8790 - val_loss: 0.2302 - val_accuracy: 0.9343 - val_precision: 0.9519 - val_recall: 0.9189 - val_f1_score: 0.9337 - val_specificity_at_sensitivity: 0.9999 - val_mean_absolute_error: 0.0256 - val_r_square: 0.8859\n",
            "Epoch 25/40\n",
            "235/235 [==============================] - 2s 9ms/step - loss: 0.2410 - accuracy: 0.9303 - precision: 0.9499 - recall: 0.9136 - f1_score: 0.9296 - specificity_at_sensitivity: 0.9999 - mean_absolute_error: 0.0265 - r_square: 0.8804 - val_loss: 0.2276 - val_accuracy: 0.9346 - val_precision: 0.9518 - val_recall: 0.9207 - val_f1_score: 0.9341 - val_specificity_at_sensitivity: 0.9999 - val_mean_absolute_error: 0.0253 - val_r_square: 0.8872\n",
            "Epoch 26/40\n",
            "235/235 [==============================] - 2s 9ms/step - loss: 0.2382 - accuracy: 0.9314 - precision: 0.9503 - recall: 0.9150 - f1_score: 0.9307 - specificity_at_sensitivity: 0.9999 - mean_absolute_error: 0.0262 - r_square: 0.8818 - val_loss: 0.2250 - val_accuracy: 0.9359 - val_precision: 0.9525 - val_recall: 0.9217 - val_f1_score: 0.9353 - val_specificity_at_sensitivity: 0.9999 - val_mean_absolute_error: 0.0250 - val_r_square: 0.8884\n",
            "Epoch 27/40\n",
            "235/235 [==============================] - 3s 12ms/step - loss: 0.2356 - accuracy: 0.9321 - precision: 0.9506 - recall: 0.9162 - f1_score: 0.9314 - specificity_at_sensitivity: 0.9999 - mean_absolute_error: 0.0259 - r_square: 0.8831 - val_loss: 0.2224 - val_accuracy: 0.9361 - val_precision: 0.9524 - val_recall: 0.9224 - val_f1_score: 0.9356 - val_specificity_at_sensitivity: 0.9999 - val_mean_absolute_error: 0.0247 - val_r_square: 0.8897\n",
            "Epoch 28/40\n",
            "235/235 [==============================] - 2s 9ms/step - loss: 0.2330 - accuracy: 0.9326 - precision: 0.9511 - recall: 0.9169 - f1_score: 0.9319 - specificity_at_sensitivity: 0.9999 - mean_absolute_error: 0.0256 - r_square: 0.8843 - val_loss: 0.2201 - val_accuracy: 0.9372 - val_precision: 0.9530 - val_recall: 0.9235 - val_f1_score: 0.9367 - val_specificity_at_sensitivity: 0.9999 - val_mean_absolute_error: 0.0245 - val_r_square: 0.8908\n",
            "Epoch 29/40\n",
            "235/235 [==============================] - 2s 9ms/step - loss: 0.2305 - accuracy: 0.9333 - precision: 0.9514 - recall: 0.9179 - f1_score: 0.9326 - specificity_at_sensitivity: 0.9999 - mean_absolute_error: 0.0253 - r_square: 0.8855 - val_loss: 0.2176 - val_accuracy: 0.9377 - val_precision: 0.9539 - val_recall: 0.9249 - val_f1_score: 0.9372 - val_specificity_at_sensitivity: 0.9999 - val_mean_absolute_error: 0.0242 - val_r_square: 0.8921\n",
            "Epoch 30/40\n",
            "235/235 [==============================] - 3s 13ms/step - loss: 0.2282 - accuracy: 0.9338 - precision: 0.9520 - recall: 0.9189 - f1_score: 0.9331 - specificity_at_sensitivity: 0.9999 - mean_absolute_error: 0.0251 - r_square: 0.8867 - val_loss: 0.2155 - val_accuracy: 0.9381 - val_precision: 0.9540 - val_recall: 0.9253 - val_f1_score: 0.9376 - val_specificity_at_sensitivity: 0.9999 - val_mean_absolute_error: 0.0240 - val_r_square: 0.8931\n",
            "Epoch 31/40\n",
            "235/235 [==============================] - 2s 9ms/step - loss: 0.2259 - accuracy: 0.9343 - precision: 0.9525 - recall: 0.9198 - f1_score: 0.9336 - specificity_at_sensitivity: 0.9999 - mean_absolute_error: 0.0249 - r_square: 0.8877 - val_loss: 0.2134 - val_accuracy: 0.9387 - val_precision: 0.9540 - val_recall: 0.9257 - val_f1_score: 0.9382 - val_specificity_at_sensitivity: 0.9999 - val_mean_absolute_error: 0.0238 - val_r_square: 0.8941\n",
            "Epoch 32/40\n",
            "235/235 [==============================] - 3s 12ms/step - loss: 0.2238 - accuracy: 0.9350 - precision: 0.9529 - recall: 0.9205 - f1_score: 0.9344 - specificity_at_sensitivity: 0.9999 - mean_absolute_error: 0.0246 - r_square: 0.8888 - val_loss: 0.2113 - val_accuracy: 0.9387 - val_precision: 0.9540 - val_recall: 0.9261 - val_f1_score: 0.9382 - val_specificity_at_sensitivity: 0.9999 - val_mean_absolute_error: 0.0235 - val_r_square: 0.8951\n",
            "Epoch 33/40\n",
            "235/235 [==============================] - 2s 9ms/step - loss: 0.2217 - accuracy: 0.9355 - precision: 0.9531 - recall: 0.9213 - f1_score: 0.9349 - specificity_at_sensitivity: 0.9999 - mean_absolute_error: 0.0244 - r_square: 0.8898 - val_loss: 0.2094 - val_accuracy: 0.9394 - val_precision: 0.9549 - val_recall: 0.9264 - val_f1_score: 0.9390 - val_specificity_at_sensitivity: 0.9999 - val_mean_absolute_error: 0.0233 - val_r_square: 0.8960\n",
            "Epoch 34/40\n",
            "235/235 [==============================] - 2s 9ms/step - loss: 0.2197 - accuracy: 0.9360 - precision: 0.9536 - recall: 0.9219 - f1_score: 0.9354 - specificity_at_sensitivity: 0.9999 - mean_absolute_error: 0.0242 - r_square: 0.8908 - val_loss: 0.2074 - val_accuracy: 0.9401 - val_precision: 0.9556 - val_recall: 0.9268 - val_f1_score: 0.9396 - val_specificity_at_sensitivity: 0.9999 - val_mean_absolute_error: 0.0231 - val_r_square: 0.8970\n",
            "Epoch 35/40\n",
            "235/235 [==============================] - 2s 9ms/step - loss: 0.2178 - accuracy: 0.9365 - precision: 0.9539 - recall: 0.9227 - f1_score: 0.9358 - specificity_at_sensitivity: 0.9999 - mean_absolute_error: 0.0240 - r_square: 0.8917 - val_loss: 0.2057 - val_accuracy: 0.9403 - val_precision: 0.9554 - val_recall: 0.9279 - val_f1_score: 0.9399 - val_specificity_at_sensitivity: 0.9999 - val_mean_absolute_error: 0.0229 - val_r_square: 0.8979\n",
            "Epoch 36/40\n",
            "235/235 [==============================] - 2s 9ms/step - loss: 0.2159 - accuracy: 0.9371 - precision: 0.9544 - recall: 0.9233 - f1_score: 0.9365 - specificity_at_sensitivity: 0.9999 - mean_absolute_error: 0.0238 - r_square: 0.8927 - val_loss: 0.2040 - val_accuracy: 0.9405 - val_precision: 0.9558 - val_recall: 0.9282 - val_f1_score: 0.9401 - val_specificity_at_sensitivity: 0.9999 - val_mean_absolute_error: 0.0228 - val_r_square: 0.8986\n",
            "Epoch 37/40\n",
            "235/235 [==============================] - 2s 10ms/step - loss: 0.2141 - accuracy: 0.9376 - precision: 0.9547 - recall: 0.9238 - f1_score: 0.9370 - specificity_at_sensitivity: 0.9999 - mean_absolute_error: 0.0236 - r_square: 0.8936 - val_loss: 0.2022 - val_accuracy: 0.9407 - val_precision: 0.9561 - val_recall: 0.9289 - val_f1_score: 0.9403 - val_specificity_at_sensitivity: 0.9999 - val_mean_absolute_error: 0.0226 - val_r_square: 0.8995\n",
            "Epoch 38/40\n",
            "235/235 [==============================] - 3s 11ms/step - loss: 0.2123 - accuracy: 0.9382 - precision: 0.9550 - recall: 0.9245 - f1_score: 0.9376 - specificity_at_sensitivity: 0.9999 - mean_absolute_error: 0.0234 - r_square: 0.8944 - val_loss: 0.2006 - val_accuracy: 0.9416 - val_precision: 0.9568 - val_recall: 0.9290 - val_f1_score: 0.9412 - val_specificity_at_sensitivity: 0.9999 - val_mean_absolute_error: 0.0224 - val_r_square: 0.9003\n",
            "Epoch 39/40\n",
            "235/235 [==============================] - 2s 9ms/step - loss: 0.2106 - accuracy: 0.9388 - precision: 0.9556 - recall: 0.9248 - f1_score: 0.9383 - specificity_at_sensitivity: 0.9999 - mean_absolute_error: 0.0233 - r_square: 0.8952 - val_loss: 0.1990 - val_accuracy: 0.9426 - val_precision: 0.9572 - val_recall: 0.9297 - val_f1_score: 0.9422 - val_specificity_at_sensitivity: 0.9999 - val_mean_absolute_error: 0.0222 - val_r_square: 0.9011\n",
            "Epoch 40/40\n",
            "235/235 [==============================] - 2s 9ms/step - loss: 0.2090 - accuracy: 0.9391 - precision: 0.9558 - recall: 0.9255 - f1_score: 0.9385 - specificity_at_sensitivity: 0.9999 - mean_absolute_error: 0.0231 - r_square: 0.8960 - val_loss: 0.1974 - val_accuracy: 0.9427 - val_precision: 0.9575 - val_recall: 0.9298 - val_f1_score: 0.9423 - val_specificity_at_sensitivity: 1.0000 - val_mean_absolute_error: 0.0221 - val_r_square: 0.9018\n",
            "40/40 [==============================] - 0s 7ms/step - loss: 0.1974 - accuracy: 0.9427 - precision: 0.9575 - recall: 0.9298 - f1_score: 0.9423 - specificity_at_sensitivity: 1.0000 - mean_absolute_error: 0.0221 - r_square: 0.9018\n",
            "[0.1974259614944458, 0.9427000284194946, 0.9574708938598633, 0.9297999739646912, 0.9422880411148071, 0.9999555349349976, 0.022061653435230255, 0.9018271565437317]\n"
          ]
        }
      ],
      "source": [
        "# Compile model \n",
        "model.compile(optimizer=optimizer, loss=loss, metrics=metrics)\n",
        "# Train Model\n",
        "history = model.fit(x_train, y_train, batch_size=batch_size, epochs=epochs, validation_data=(x_val, y_val))\n",
        "\n",
        "# Model Evaluation\n",
        "evaluate_result = model.evaluate(x_test, y_test, batch_size=batch_size)\n",
        "print(evaluate_result)"
      ]
    },
    {
      "cell_type": "code",
      "execution_count": 7,
      "metadata": {
        "colab": {
          "base_uri": "https://localhost:8080/"
        },
        "id": "L721aGoL7hSB",
        "outputId": "a0682579-f31a-46d4-9ea3-38640708746f"
      },
      "outputs": [
        {
          "output_type": "stream",
          "name": "stdout",
          "text": [
            "                        Train      Test\n",
            "Loss                 0.209020  0.197426\n",
            "Accuracy             0.939067  0.942700\n",
            "Precision            0.955829  0.957471\n",
            "Recall               0.925450  0.929800\n",
            "F1 Score             0.938497  0.942288\n",
            "Specificity          0.999909  0.999956\n",
            "Mean Absolute Error  0.023095  0.022062\n",
            "R2 Score             0.896022  0.901827\n"
          ]
        }
      ],
      "source": [
        "# Results\n",
        "train_results = train_result(history, module_type='Train')\n",
        "test_results = test_result(evaluate_result, module_type='Test')\n",
        "final_result = pd.concat([train_results, test_results], axis=1)\n",
        "print(final_result)"
      ]
    },
    {
      "cell_type": "code",
      "execution_count": 8,
      "metadata": {
        "colab": {
          "base_uri": "https://localhost:8080/",
          "height": 573
        },
        "id": "8sNpXY4GyXfH",
        "outputId": "268b82ba-9a24-4d81-e9c3-123bf4c2cf94"
      },
      "outputs": [
        {
          "output_type": "display_data",
          "data": {
            "text/plain": [
              "<Figure size 432x288 with 1 Axes>"
            ],
            "image/png": "[encoded data removed]"
          },
          "metadata": {
            "needs_background": "light"
          }
        },
        {
          "output_type": "display_data",
          "data": {
            "text/plain": [
              "<Figure size 432x288 with 1 Axes>"
            ],
            "image/png": "[encoded data removed]"
          },
          "metadata": {
            "needs_background": "light"
          }
        }
      ],
      "source": [
        "# Plot Accuracy and Loss\n",
        "import matplotlib.pyplot as plt\n",
        "plt.figure()\n",
        "plt.plot(history.history['loss'])\n",
        "plt.plot(history.history['val_loss'])\n",
        "plt.title('Training Loss vs Validation Loss')\n",
        "plt.xlabel('Epochs')\n",
        "plt.ylabel('Loss')\n",
        "plt.legend(['Train', 'Val'])\n",
        "plt.show()\n",
        "\n",
        "plt.figure()\n",
        "plt.plot(history.history['accuracy'])\n",
        "plt.plot(history.history['val_accuracy'])\n",
        "plt.title('Training Accuracy vs Validation Accuracy')\n",
        "plt.xlabel('Epochs')\n",
        "plt.ylabel('Accuracy')\n",
        "plt.legend(['Train', 'Val'])\n",
        "plt.show()\n"
      ]
    }
  ],
  "metadata": {
    "accelerator": "GPU",
    "colab": {
      "provenance": []
    },
    "gpuClass": "standard",
    "kernelspec": {
      "display_name": "Python 3",
      "name": "python3"
    },
    "language_info": {
      "name": "python"
    }
  },
  "nbformat": 4,
  "nbformat_minor": 0
}